{
  "nbformat": 4,
  "nbformat_minor": 0,
  "metadata": {
    "colab": {
      "provenance": [],
      "toc_visible": true,
      "authorship_tag": "ABX9TyMUM4HqRcz5ydp7oYUZM+X5",
      "include_colab_link": true
    },
    "kernelspec": {
      "name": "python3",
      "display_name": "Python 3"
    },
    "language_info": {
      "name": "python"
    }
  },
  "cells": [
    {
      "cell_type": "markdown",
      "metadata": {
        "id": "view-in-github",
        "colab_type": "text"
      },
      "source": [
        "<a href=\"https://colab.research.google.com/github/ByeonJaeseong/BOJprob/blob/main/preceptron.ipynb\" target=\"_parent\"><img src=\"https://colab.research.google.com/assets/colab-badge.svg\" alt=\"Open In Colab\"/></a>"
      ]
    },
    {
      "cell_type": "code",
      "execution_count": 32,
      "metadata": {
        "id": "dxjoPfJjJdpD"
      },
      "outputs": [],
      "source": [
        "def AND(x1, x2):\n",
        "      w1, w2, theta = 0.5, 0.5, 0.7 #직선으로 분류하기 위한 가중치\n",
        "      tmp = x1*w1 + x2*w2\n",
        "      if tmp <= theta:\n",
        "        return 0\n",
        "      elif tmp > theta:\n",
        "        return 1\n"
      ]
    },
    {
      "cell_type": "code",
      "source": [
        "print(AND(0,0))\n",
        "print(AND(1,0))\n",
        "print(AND(0,1))\n",
        "print(AND(1,1))\n"
      ],
      "metadata": {
        "colab": {
          "base_uri": "https://localhost:8080/"
        },
        "id": "a4HFHYeLJl99",
        "outputId": "8b8ceefc-7752-4eb1-84fd-e9d35637a214"
      },
      "execution_count": 33,
      "outputs": [
        {
          "output_type": "stream",
          "name": "stdout",
          "text": [
            "0\n",
            "0\n",
            "0\n",
            "1\n"
          ]
        }
      ]
    },
    {
      "cell_type": "code",
      "source": [
        "import numpy as np\n",
        "x = np.array([0, 1]) #input value\n",
        "w = np.array([0.5, 0.5]) #weight\n",
        "b = -0.7 # bias\n",
        "print(w*x)\n",
        "np.sum(w*x)+b\n"
      ],
      "metadata": {
        "colab": {
          "base_uri": "https://localhost:8080/"
        },
        "id": "9odwbtPuKjeE",
        "outputId": "328c557d-d27e-4268-ebd5-6fdb5f7d570c"
      },
      "execution_count": 16,
      "outputs": [
        {
          "output_type": "stream",
          "name": "stdout",
          "text": [
            "[0.  0.5]\n"
          ]
        },
        {
          "output_type": "execute_result",
          "data": {
            "text/plain": [
              "-0.19999999999999996"
            ]
          },
          "metadata": {},
          "execution_count": 16
        }
      ]
    },
    {
      "cell_type": "code",
      "source": [
        "def AND(x1, x2) :\n",
        "    x = np.array([x1, x2])\n",
        "    w = np.array([0.5, 0.5]) # weigth 는 value 의 중요도 결정\n",
        "    b = -0.7  # 활성화 여부 결정\n",
        "    tmp = np.sum(w*x)+b\n",
        "    if tmp <= 0 :\n",
        "      return 0\n",
        "    else :\n",
        "      return 1\n",
        "\n",
        "def NAND(x1, x2) :\n",
        "    x = np.array([x1, x2])\n",
        "    w = np.array([-0.5, -0.5]) # weigth 는 value 의 중요도 결정\n",
        "    b = 0.7  # 활성화 여부 결정\n",
        "    tmp = np.sum(w*x)+b\n",
        "    if tmp <= 0 :\n",
        "      return 0\n",
        "    else :\n",
        "      return 1\n",
        "\n",
        "def OR(x1, x2) :\n",
        "    x = np.array([x1, x2])\n",
        "    w = np.array([0.5, 0.5]) # weigth 는 value 의 중요도 결정\n",
        "    b = -0.2  # 활성화 여부 결정\n",
        "    tmp = np.sum(w*x)+b\n",
        "    if tmp <= 0 :\n",
        "      return 0\n",
        "    else :\n",
        "      return 1 \n",
        "\n",
        "def XOR(x1, x2) :\n",
        "  s1 = NAND(x1, x2)\n",
        "  s2 = OR(x1, x2)\n",
        "  y = AND(s1, s2)\n",
        "  return y     "
      ],
      "metadata": {
        "id": "wDh228qDLCQZ"
      },
      "execution_count": 49,
      "outputs": []
    },
    {
      "cell_type": "code",
      "source": [
        "print(AND(0,0))\n",
        "print(AND(1,0))\n",
        "print(AND(0,1))\n",
        "print(AND(1,1))\n",
        "print()\n",
        "print(NAND(0,0))\n",
        "print(NAND(1,0))\n",
        "print(NAND(0,1))\n",
        "print(NAND(1,1))\n",
        "print()\n",
        "print(OR(0,0))\n",
        "print(OR(1,0))\n",
        "print(OR(0,1))\n",
        "print(OR(1,1))\n",
        "print()\n",
        "print(XOR(0,0))\n",
        "print(XOR(1,0))\n",
        "print(XOR(0,1))\n",
        "print(XOR(1,1))"
      ],
      "metadata": {
        "colab": {
          "base_uri": "https://localhost:8080/"
        },
        "id": "Z-ntZ_swLaYl",
        "outputId": "da6ccb98-0258-404e-919f-bd14002273e5"
      },
      "execution_count": 50,
      "outputs": [
        {
          "output_type": "stream",
          "name": "stdout",
          "text": [
            "0\n",
            "0\n",
            "0\n",
            "1\n",
            "\n",
            "1\n",
            "1\n",
            "1\n",
            "0\n",
            "\n",
            "0\n",
            "1\n",
            "1\n",
            "1\n",
            "\n",
            "0\n",
            "1\n",
            "1\n",
            "0\n"
          ]
        }
      ]
    },
    {
      "cell_type": "code",
      "source": [],
      "metadata": {
        "id": "d5IuWhH2Ln_D"
      },
      "execution_count": null,
      "outputs": []
    }
  ]
}