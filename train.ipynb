{
  "nbformat": 4,
  "nbformat_minor": 0,
  "metadata": {
    "colab": {
      "provenance": [],
      "toc_visible": true,
      "authorship_tag": "ABX9TyN3TsqAUOI2aZlVTHtmXnOf",
      "include_colab_link": true
    },
    "kernelspec": {
      "name": "python3",
      "display_name": "Python 3"
    },
    "language_info": {
      "name": "python"
    }
  },
  "cells": [
    {
      "cell_type": "markdown",
      "metadata": {
        "id": "view-in-github",
        "colab_type": "text"
      },
      "source": [
        "<a href=\"https://colab.research.google.com/github/ByeonJaeseong/DeepLearningProject/blob/main/train.ipynb\" target=\"_parent\"><img src=\"https://colab.research.google.com/assets/colab-badge.svg\" alt=\"Open In Colab\"/></a>"
      ]
    },
    {
      "cell_type": "code",
      "execution_count": 4,
      "metadata": {
        "colab": {
          "base_uri": "https://localhost:8080/"
        },
        "id": "yQSN4CvyC3nG",
        "outputId": "9063f053-3a5a-467b-8fc8-1364b4fe050b"
      },
      "outputs": [
        {
          "output_type": "stream",
          "name": "stdout",
          "text": [
            "Requirement already satisfied: keras-tuner in /usr/local/lib/python3.10/dist-packages (1.3.5)\n",
            "Requirement already satisfied: packaging in /usr/local/lib/python3.10/dist-packages (from keras-tuner) (23.1)\n",
            "Requirement already satisfied: requests in /usr/local/lib/python3.10/dist-packages (from keras-tuner) (2.27.1)\n",
            "Requirement already satisfied: kt-legacy in /usr/local/lib/python3.10/dist-packages (from keras-tuner) (1.0.5)\n",
            "Requirement already satisfied: urllib3<1.27,>=1.21.1 in /usr/local/lib/python3.10/dist-packages (from requests->keras-tuner) (1.26.16)\n",
            "Requirement already satisfied: certifi>=2017.4.17 in /usr/local/lib/python3.10/dist-packages (from requests->keras-tuner) (2023.7.22)\n",
            "Requirement already satisfied: charset-normalizer~=2.0.0 in /usr/local/lib/python3.10/dist-packages (from requests->keras-tuner) (2.0.12)\n",
            "Requirement already satisfied: idna<4,>=2.5 in /usr/local/lib/python3.10/dist-packages (from requests->keras-tuner) (3.4)\n"
          ]
        },
        {
          "output_type": "stream",
          "name": "stderr",
          "text": [
            "<ipython-input-4-e51f09231e9b>:11: DeprecationWarning: `import kerastuner` is deprecated, please use `import keras_tuner`.\n",
            "  from kerastuner.tuners import RandomSearch\n"
          ]
        }
      ],
      "source": [
        "!pip install -U keras-tuner\n",
        "\n",
        "import pandas as pd\n",
        "import numpy as np\n",
        "import tensorflow as tf\n",
        "from sklearn.model_selection import train_test_split\n",
        "from sklearn.preprocessing import MinMaxScaler\n",
        "from tensorflow.keras.models import Sequential\n",
        "from tensorflow.keras.layers import LSTM, Dense\n",
        "from tensorflow.keras.callbacks import EarlyStopping, ModelCheckpoint\n",
        "from kerastuner.tuners import RandomSearch\n",
        "\n",
        "\n",
        "#uploaded = files.upload()"
      ]
    },
    {
      "cell_type": "code",
      "source": [
        "# 데이터 불러오기\n",
        "lane_data_c = pd.read_csv('lane_data_c.csv', encoding='utf-8')\n",
        "lane_data_s = pd.read_csv('lane_data_s.csv', encoding='utf-8')\n",
        "data_c30 = pd.read_csv('data_c30.csv', encoding='utf-8')\n",
        "\n",
        "# 데이터 결합\n",
        "data_combined = pd.concat([lane_data_c, lane_data_s, data_c30], axis=1)\n",
        "data_combined = data_combined.loc[:, ~data_combined.columns.duplicated()]\n",
        "data_combined = data_combined.drop_duplicates(subset='Distance', keep='first')  # 첫 번째 중복 행만 남기기\n",
        "# 가중치 계산 함수 정의\n",
        "def weighted_mape(y_true, y_pred, weights):\n",
        "    return np.sum(weights * np.abs((y_true - y_pred) / y_true)) / np.sum(weights) * 100\n",
        "\n",
        "# 사용자 정의 Weighted MAPE 손실 함수\n",
        "def weighted_mape_loss(weights):\n",
        "    def loss(y_true, y_pred):\n",
        "        return tf.reduce_sum(weights * tf.abs((y_true - y_pred) / y_true)) / tf.reduce_sum(weights) * 100\n",
        "    return loss\n",
        "\n",
        "# 입력 변수와 탈선계수 분리\n",
        "X = data_combined.drop(['YL_M1_B1_W1', 'YR_M1_B1_W1', 'YL_M1_B1_W2', 'YR_M1_B1_W2'], axis=1)\n",
        "y = data_combined[['YL_M1_B1_W1', 'YR_M1_B1_W1', 'YL_M1_B1_W2', 'YR_M1_B1_W2']]\n",
        "\n",
        "# 데이터 정규화\n",
        "scaler = MinMaxScaler()\n",
        "X_scaled = scaler.fit_transform(X)\n",
        "\n",
        "# 학습 데이터와 테스트 데이터 분할\n",
        "X_train, X_test, y_train, y_test = train_test_split(X_scaled, y, test_size=0.2, random_state=42)\n",
        "\n"
      ],
      "metadata": {
        "id": "p0SagrsxDjY6"
      },
      "execution_count": 5,
      "outputs": []
    },
    {
      "cell_type": "code",
      "source": [
        "X_train.shape\n",
        "# X.head()\n",
        "# X.describe()"
      ],
      "metadata": {
        "colab": {
          "base_uri": "https://localhost:8080/"
        },
        "id": "uv1PKCOnKTLl",
        "outputId": "50dfdb79-5b35-4dba-b4b8-0dc264078801"
      },
      "execution_count": 12,
      "outputs": [
        {
          "output_type": "execute_result",
          "data": {
            "text/plain": [
              "(9600, 38)"
            ]
          },
          "metadata": {},
          "execution_count": 12
        }
      ]
    },
    {
      "cell_type": "code",
      "source": [
        "# 시계열 데이터와 특성 데이터 분리\n",
        "time_series_data = data_combined.iloc[:, 0].values\n",
        "feature_data = data_combined.iloc[:, 1:].values\n",
        "\n",
        "# 데이터 정규화\n",
        "scaler = MinMaxScaler()\n",
        "time_series_data = scaler.fit_transform(time_series_data.reshape(-1, 1)).flatten()\n",
        "feature_data = scaler.fit_transform(feature_data)\n",
        "\n",
        "# 시계열 데이터와 특성 데이터를 각각 3D 텐서로 변환\n",
        "time_steps = 10\n",
        "X_time_series = []\n",
        "X_features = []\n",
        "\n",
        "for i in range(len(time_series_data) - time_steps):\n",
        "    X_time_series.append(time_series_data[i:i + time_steps])\n",
        "    X_features.append(feature_data[i:i + time_steps])\n",
        "\n",
        "X_time_series = np.array(X_time_series)\n",
        "X_features = np.array(X_features)\n",
        "\n",
        "# 출력 데이터\n",
        "y = time_series_data[time_steps:]\n",
        "\n",
        "# 학습 데이터와 테스트 데이터 분할\n",
        "X_time_series_train, X_time_series_test, X_features_train, X_features_test, y_train, y_test = train_test_split(\n",
        "    X_time_series, X_features, y, test_size=0.2, random_state=42)\n",
        "\n",
        "# 가중치 계산 함수 정의\n",
        "def weighted_mape(y_true, y_pred, weights):\n",
        "    return np.sum(weights * np.abs((y_true - y_pred) / y_true)) / np.sum(weights) * 100\n",
        "\n",
        "# 사용자 정의 Weighted MAPE 손실 함수\n",
        "def weighted_mape_loss(weights):\n",
        "    def loss(y_true, y_pred):\n",
        "        return tf.reduce_sum(weights * tf.abs((y_true - y_pred) / y_true)) / tf.reduce_sum(weights) * 100\n",
        "    return loss\n",
        "\n",
        "# 모델 생성 함수 정의\n",
        "def build_model(hp):\n",
        "    model = Sequential()\n",
        "    model.add(LSTM(units=hp.Int('units', min_value=32, max_value=128, step=32), input_shape=(X_time_series_train.shape[1], 1), activation='relu', return_sequences=True))\n",
        "    model.add(LSTM(units=hp.Int('units', min_value=32, max_value=128, step=32), activation='relu'))\n",
        "    model.add(Dense(1))  # 시계열 데이터 예측이므로 출력 뉴런 수는 1\n",
        "    model.compile(optimizer='adam', loss='mean_squared_error')\n",
        "    return model\n",
        "\n",
        "# Early Stopping 설정\n",
        "early_stopping = EarlyStopping(monitor='val_loss', patience=10, restore_best_weights=True)\n",
        "\n",
        "# Model Checkpoint 설정\n",
        "model_checkpoint = ModelCheckpoint('best_model.h5', save_best_only=True, save_weights_only=True, monitor='val_loss', mode='min')\n",
        "\n",
        "# Hyperparameter Tuning 설정\n",
        "tuner = RandomSearch(build_model,\n",
        "                     objective='val_loss',\n",
        "                     max_trials=10,\n",
        "                     directory='tuner_results',\n",
        "                     project_name='my_tuning_project')\n",
        "\n",
        "# 모델 훈련\n",
        "tuner.search(X_time_series_train, y_train, epochs=50, batch_size=32, validation_data=(X_time_series_test, y_test),\n",
        "             callbacks=[early_stopping, model_checkpoint])\n",
        "\n",
        "# 튜닝 결과 요약\n",
        "tuner.results_summary()"
      ],
      "metadata": {
        "colab": {
          "base_uri": "https://localhost:8080/"
        },
        "id": "MHlMFus1KOn9",
        "outputId": "e8eeb349-bf76-4ae4-e0c2-329e563daa40"
      },
      "execution_count": 6,
      "outputs": [
        {
          "output_type": "stream",
          "name": "stdout",
          "text": [
            "Trial 4 Complete [00h 09m 24s]\n",
            "val_loss: 6.643612326939774e-09\n",
            "\n",
            "Best val_loss So Far: 6.643612326939774e-09\n",
            "Total elapsed time: 00h 14m 36s\n",
            "Results summary\n",
            "Results in tuner_results/my_tuning_project\n",
            "Showing 10 best trials\n",
            "Objective(name=\"val_loss\", direction=\"min\")\n",
            "\n",
            "Trial 03 summary\n",
            "Hyperparameters:\n",
            "units: 128\n",
            "Score: 6.643612326939774e-09\n",
            "\n",
            "Trial 02 summary\n",
            "Hyperparameters:\n",
            "units: 96\n",
            "Score: 2.326107129135835e-08\n",
            "\n",
            "Trial 01 summary\n",
            "Hyperparameters:\n",
            "units: 64\n",
            "Score: 4.295517186392317e-08\n",
            "\n",
            "Trial 00 summary\n",
            "Hyperparameters:\n",
            "units: 32\n",
            "Score: 6.380202677291891e-08\n"
          ]
        }
      ]
    },
    {
      "cell_type": "code",
      "source": [
        "# 최적 모델 선택\n",
        "best_model = tuner.get_best_models(num_models=1)[0]\n",
        "\n",
        "# 학습\n",
        "best_model.fit(X_time_series_train, y_train, epochs=50, batch_size=32, validation_data=(X_time_series_test, y_test),\n",
        "               callbacks=[early_stopping, model_checkpoint])"
      ],
      "metadata": {
        "id": "sYHGcvnxKI32",
        "colab": {
          "base_uri": "https://localhost:8080/"
        },
        "outputId": "fd1ad40f-1824-42f8-bddf-e6112772332b"
      },
      "execution_count": 7,
      "outputs": [
        {
          "output_type": "stream",
          "name": "stdout",
          "text": [
            "Epoch 1/50\n",
            "300/300 [==============================] - 36s 108ms/step - loss: 5.5858e-05 - val_loss: 9.4624e-06\n",
            "Epoch 2/50\n",
            "300/300 [==============================] - 18s 59ms/step - loss: 8.4342e-07 - val_loss: 4.1307e-08\n",
            "Epoch 3/50\n",
            "300/300 [==============================] - 14s 47ms/step - loss: 4.3779e-08 - val_loss: 1.7144e-08\n",
            "Epoch 4/50\n",
            "300/300 [==============================] - 14s 48ms/step - loss: 5.9193e-08 - val_loss: 9.8871e-08\n",
            "Epoch 5/50\n",
            "300/300 [==============================] - 15s 48ms/step - loss: 1.1478e-07 - val_loss: 8.8831e-08\n",
            "Epoch 6/50\n",
            "300/300 [==============================] - 19s 62ms/step - loss: 3.3347e-05 - val_loss: 3.0792e-06\n",
            "Epoch 7/50\n",
            "300/300 [==============================] - 15s 49ms/step - loss: 1.0127e-07 - val_loss: 1.0251e-07\n",
            "Epoch 8/50\n",
            "300/300 [==============================] - 14s 48ms/step - loss: 2.8087e-08 - val_loss: 9.4520e-09\n",
            "Epoch 9/50\n",
            "300/300 [==============================] - 15s 51ms/step - loss: 2.8003e-08 - val_loss: 7.8980e-08\n",
            "Epoch 10/50\n",
            "300/300 [==============================] - 15s 49ms/step - loss: 1.1897e-05 - val_loss: 1.6348e-08\n",
            "Epoch 11/50\n",
            "300/300 [==============================] - 14s 48ms/step - loss: 1.2532e-06 - val_loss: 1.0984e-06\n",
            "Epoch 12/50\n",
            "300/300 [==============================] - 14s 46ms/step - loss: 4.1884e-06 - val_loss: 1.5250e-07\n",
            "Epoch 13/50\n",
            "300/300 [==============================] - 14s 47ms/step - loss: 1.8076e-05 - val_loss: 2.7347e-08\n",
            "Epoch 14/50\n",
            "300/300 [==============================] - 16s 52ms/step - loss: 3.9230e-08 - val_loss: 1.0835e-07\n",
            "Epoch 15/50\n",
            "300/300 [==============================] - 15s 49ms/step - loss: 1.2993e-06 - val_loss: 5.6367e-08\n",
            "Epoch 16/50\n",
            "300/300 [==============================] - 14s 47ms/step - loss: 1.4259e-05 - val_loss: 6.3659e-08\n",
            "Epoch 17/50\n",
            "300/300 [==============================] - 14s 46ms/step - loss: 5.9220e-08 - val_loss: 1.2145e-08\n",
            "Epoch 18/50\n",
            "300/300 [==============================] - 14s 46ms/step - loss: 3.5169e-05 - val_loss: 1.7598e-06\n"
          ]
        },
        {
          "output_type": "execute_result",
          "data": {
            "text/plain": [
              "<keras.callbacks.History at 0x79454552e1d0>"
            ]
          },
          "metadata": {},
          "execution_count": 7
        }
      ]
    },
    {
      "cell_type": "code",
      "source": [
        "# 다음 1999개의 샘플 예측\n",
        "next_samples = 1999\n",
        "X_time_series_predict = X_time_series[-next_samples:]\n",
        "X_features_predict = X_features[-next_samples:]\n",
        "\n",
        "# 모델 예측\n",
        "predictions = best_model.predict([X_time_series_predict, X_features_predict])\n",
        "\n",
        "# 예측 결과 업데이트\n",
        "answer_sample = pd.read_csv('answer_sample.csv', header=None)\n",
        "answer_sample.iloc[:, 1:5] = predictions  # 2번째 열부터 5번째 열에 예측 결과 저장\n",
        "answer_sample.to_csv('answer_sample.csv', index=False, header=False)  # 결과를 파일에 저장"
      ],
      "metadata": {
        "colab": {
          "base_uri": "https://localhost:8080/",
          "height": 869
        },
        "id": "8Z6KejBE6QTp",
        "outputId": "bb7f1ec8-5ce2-4b5a-98bb-85c869e2519f"
      },
      "execution_count": 10,
      "outputs": [
        {
          "output_type": "error",
          "ename": "ValueError",
          "evalue": "ignored",
          "traceback": [
            "\u001b[0;31m---------------------------------------------------------------------------\u001b[0m",
            "\u001b[0;31mValueError\u001b[0m                                Traceback (most recent call last)",
            "\u001b[0;32m<ipython-input-10-80e4ac8784ad>\u001b[0m in \u001b[0;36m<cell line: 7>\u001b[0;34m()\u001b[0m\n\u001b[1;32m      5\u001b[0m \u001b[0;34m\u001b[0m\u001b[0m\n\u001b[1;32m      6\u001b[0m \u001b[0;31m# 모델 예측\u001b[0m\u001b[0;34m\u001b[0m\u001b[0;34m\u001b[0m\u001b[0m\n\u001b[0;32m----> 7\u001b[0;31m \u001b[0mpredictions\u001b[0m \u001b[0;34m=\u001b[0m \u001b[0mbest_model\u001b[0m\u001b[0;34m.\u001b[0m\u001b[0mpredict\u001b[0m\u001b[0;34m(\u001b[0m\u001b[0;34m[\u001b[0m\u001b[0mX_time_series_predict\u001b[0m\u001b[0;34m,\u001b[0m \u001b[0mX_features_predict\u001b[0m\u001b[0;34m]\u001b[0m\u001b[0;34m)\u001b[0m\u001b[0;34m\u001b[0m\u001b[0;34m\u001b[0m\u001b[0m\n\u001b[0m\u001b[1;32m      8\u001b[0m \u001b[0;34m\u001b[0m\u001b[0m\n\u001b[1;32m      9\u001b[0m \u001b[0;31m# 예측 결과 업데이트\u001b[0m\u001b[0;34m\u001b[0m\u001b[0;34m\u001b[0m\u001b[0m\n",
            "\u001b[0;32m/usr/local/lib/python3.10/dist-packages/keras/utils/traceback_utils.py\u001b[0m in \u001b[0;36merror_handler\u001b[0;34m(*args, **kwargs)\u001b[0m\n\u001b[1;32m     68\u001b[0m             \u001b[0;31m# To get the full stack trace, call:\u001b[0m\u001b[0;34m\u001b[0m\u001b[0;34m\u001b[0m\u001b[0m\n\u001b[1;32m     69\u001b[0m             \u001b[0;31m# `tf.debugging.disable_traceback_filtering()`\u001b[0m\u001b[0;34m\u001b[0m\u001b[0;34m\u001b[0m\u001b[0m\n\u001b[0;32m---> 70\u001b[0;31m             \u001b[0;32mraise\u001b[0m \u001b[0me\u001b[0m\u001b[0;34m.\u001b[0m\u001b[0mwith_traceback\u001b[0m\u001b[0;34m(\u001b[0m\u001b[0mfiltered_tb\u001b[0m\u001b[0;34m)\u001b[0m \u001b[0;32mfrom\u001b[0m \u001b[0;32mNone\u001b[0m\u001b[0;34m\u001b[0m\u001b[0;34m\u001b[0m\u001b[0m\n\u001b[0m\u001b[1;32m     71\u001b[0m         \u001b[0;32mfinally\u001b[0m\u001b[0;34m:\u001b[0m\u001b[0;34m\u001b[0m\u001b[0;34m\u001b[0m\u001b[0m\n\u001b[1;32m     72\u001b[0m             \u001b[0;32mdel\u001b[0m \u001b[0mfiltered_tb\u001b[0m\u001b[0;34m\u001b[0m\u001b[0;34m\u001b[0m\u001b[0m\n",
            "\u001b[0;32m/usr/local/lib/python3.10/dist-packages/keras/engine/training.py\u001b[0m in \u001b[0;36mtf__predict_function\u001b[0;34m(iterator)\u001b[0m\n\u001b[1;32m     13\u001b[0m                 \u001b[0;32mtry\u001b[0m\u001b[0;34m:\u001b[0m\u001b[0;34m\u001b[0m\u001b[0;34m\u001b[0m\u001b[0m\n\u001b[1;32m     14\u001b[0m                     \u001b[0mdo_return\u001b[0m \u001b[0;34m=\u001b[0m \u001b[0;32mTrue\u001b[0m\u001b[0;34m\u001b[0m\u001b[0;34m\u001b[0m\u001b[0m\n\u001b[0;32m---> 15\u001b[0;31m                     \u001b[0mretval_\u001b[0m \u001b[0;34m=\u001b[0m \u001b[0mag__\u001b[0m\u001b[0;34m.\u001b[0m\u001b[0mconverted_call\u001b[0m\u001b[0;34m(\u001b[0m\u001b[0mag__\u001b[0m\u001b[0;34m.\u001b[0m\u001b[0mld\u001b[0m\u001b[0;34m(\u001b[0m\u001b[0mstep_function\u001b[0m\u001b[0;34m)\u001b[0m\u001b[0;34m,\u001b[0m \u001b[0;34m(\u001b[0m\u001b[0mag__\u001b[0m\u001b[0;34m.\u001b[0m\u001b[0mld\u001b[0m\u001b[0;34m(\u001b[0m\u001b[0mself\u001b[0m\u001b[0;34m)\u001b[0m\u001b[0;34m,\u001b[0m \u001b[0mag__\u001b[0m\u001b[0;34m.\u001b[0m\u001b[0mld\u001b[0m\u001b[0;34m(\u001b[0m\u001b[0miterator\u001b[0m\u001b[0;34m)\u001b[0m\u001b[0;34m)\u001b[0m\u001b[0;34m,\u001b[0m \u001b[0;32mNone\u001b[0m\u001b[0;34m,\u001b[0m \u001b[0mfscope\u001b[0m\u001b[0;34m)\u001b[0m\u001b[0;34m\u001b[0m\u001b[0;34m\u001b[0m\u001b[0m\n\u001b[0m\u001b[1;32m     16\u001b[0m                 \u001b[0;32mexcept\u001b[0m\u001b[0;34m:\u001b[0m\u001b[0;34m\u001b[0m\u001b[0;34m\u001b[0m\u001b[0m\n\u001b[1;32m     17\u001b[0m                     \u001b[0mdo_return\u001b[0m \u001b[0;34m=\u001b[0m \u001b[0;32mFalse\u001b[0m\u001b[0;34m\u001b[0m\u001b[0;34m\u001b[0m\u001b[0m\n",
            "\u001b[0;31mValueError\u001b[0m: in user code:\n\n    File \"/usr/local/lib/python3.10/dist-packages/keras/engine/training.py\", line 2169, in predict_function  *\n        return step_function(self, iterator)\n    File \"/usr/local/lib/python3.10/dist-packages/keras/engine/training.py\", line 2155, in step_function  **\n        outputs = model.distribute_strategy.run(run_step, args=(data,))\n    File \"/usr/local/lib/python3.10/dist-packages/keras/engine/training.py\", line 2143, in run_step  **\n        outputs = model.predict_step(data)\n    File \"/usr/local/lib/python3.10/dist-packages/keras/engine/training.py\", line 2111, in predict_step\n        return self(x, training=False)\n    File \"/usr/local/lib/python3.10/dist-packages/keras/utils/traceback_utils.py\", line 70, in error_handler\n        raise e.with_traceback(filtered_tb) from None\n    File \"/usr/local/lib/python3.10/dist-packages/keras/engine/input_spec.py\", line 219, in assert_input_compatibility\n        raise ValueError(\n\n    ValueError: Layer \"sequential\" expects 1 input(s), but it received 2 input tensors. Inputs received: [<tf.Tensor 'IteratorGetNext:0' shape=(None, 10) dtype=float32>, <tf.Tensor 'IteratorGetNext:1' shape=(None, 10, 41) dtype=float32>]\n"
          ]
        }
      ]
    }
  ]
}