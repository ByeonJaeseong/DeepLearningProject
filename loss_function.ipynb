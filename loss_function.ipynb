{
  "nbformat": 4,
  "nbformat_minor": 0,
  "metadata": {
    "colab": {
      "provenance": [],
      "toc_visible": true,
      "authorship_tag": "ABX9TyNIJXbI2gyfU6q1E93pN7OM",
      "include_colab_link": true
    },
    "kernelspec": {
      "name": "python3",
      "display_name": "Python 3"
    },
    "language_info": {
      "name": "python"
    }
  },
  "cells": [
    {
      "cell_type": "markdown",
      "metadata": {
        "id": "view-in-github",
        "colab_type": "text"
      },
      "source": [
        "<a href=\"https://colab.research.google.com/github/ByeonJaeseong/DeepLearningProject/blob/main/loss_function.ipynb\" target=\"_parent\"><img src=\"https://colab.research.google.com/assets/colab-badge.svg\" alt=\"Open In Colab\"/></a>"
      ]
    },
    {
      "cell_type": "code",
      "execution_count": 17,
      "metadata": {
        "id": "2jMccpbFTnKQ"
      },
      "outputs": [],
      "source": [
        "from sklearn.datasets import  fetch_openml\n",
        "import numpy as np\n",
        "from PIL import Image\n",
        "import matplotlib as mpl\n",
        "import matplotlib.pyplot as plt\n",
        "import pickle\n",
        "def sum_squares_error(y, t):\n",
        "    return 0.5 * np,sum((y-t)**2)\n",
        "\n",
        "\n",
        "def cross_entropy_error(y, t):\n",
        "    if y.ndim ==1:\n",
        "        t = t.reshape(1, t.size)\n",
        "        y = y.reshape(1, y.size)\n",
        "\n",
        "    batch_size = y.shape[0]\n",
        "    return -np.sum(t*np.log(y+1e-7))/batch_size \n",
        "\n",
        "def numerical_diff(f,x):\n",
        "    h = 1e-4\n",
        "    return(f(x+h)-f(x-h))/(2*h)\n",
        "\n",
        "def function_1(x):\n",
        "    return 0.01*x**2+0.1*x\n",
        "\n",
        "def function_2(x):\n",
        "    return x[0]**2 + x[1]**2\n",
        "\n",
        "def numerical_gradient(f,x):\n",
        "    h = 1e-4\n",
        "    grad = np.zeros_like(x)\n",
        "    \n",
        "    for idx in range(x.size):\n",
        "        tmp_val = x[idx]\n",
        "        x[idx] = tmp_val +h\n",
        "        fxh1 = f(x)\n",
        "\n",
        "        x[idx] = tmp_val-h\n",
        "        fxh2 = f(x)\n",
        "\n",
        "        grad[idx] = (fxh1-fxh2) / (2*h)\n",
        "        x[idx] = tmp_val\n",
        "\n",
        "    return grad\n",
        "       "
      ]
    },
    {
      "cell_type": "code",
      "source": [
        "mnist = fetch_openml('mnist_784', version=1, as_frame=False)\n",
        "X, y = mnist[\"data\"], mnist[\"target\"]\n",
        "x_train, x_test, t_train, t_test = X[:60000], X[60000:], y[:60000], y[60000:]\n"
      ],
      "metadata": {
        "id": "ptOZBPJsXYiW"
      },
      "execution_count": 7,
      "outputs": []
    },
    {
      "cell_type": "code",
      "source": [
        "print(x_train.shape)\n",
        "print(t_train.shape)\n",
        "train_size = x_train.shape[0]\n",
        "batch_size = 10\n",
        "batch_mask = np.random.choice(train_size, batch_size)\n",
        "x_batch = x_train[batch_mask]\n",
        "t_batch = t_train[batch_mask]\n",
        "np.random.choice(60000,10)"
      ],
      "metadata": {
        "colab": {
          "base_uri": "https://localhost:8080/"
        },
        "id": "U7RmDHWmXSZX",
        "outputId": "2b2aca60-691d-425f-ec8b-3fa4eef20157"
      },
      "execution_count": 8,
      "outputs": [
        {
          "output_type": "stream",
          "name": "stdout",
          "text": [
            "(60000, 784)\n",
            "(60000,)\n"
          ]
        },
        {
          "output_type": "execute_result",
          "data": {
            "text/plain": [
              "array([29231, 28086,  2844, 51285, 43598, 10720, 17483, 28754, 59390,\n",
              "       14631])"
            ]
          },
          "metadata": {},
          "execution_count": 8
        }
      ]
    },
    {
      "cell_type": "code",
      "source": [
        "def gradient_descent(f, init_x, lr=0.01, step_num=100):\n",
        "    x = init_x\n",
        "\n",
        "    for i in range(step_num):\n",
        "        grad = numerical_gradient(f,x)\n",
        "        x-= lr*grad\n",
        "    return x\n"
      ],
      "metadata": {
        "id": "f89NFivAYjtC"
      },
      "execution_count": 15,
      "outputs": []
    },
    {
      "cell_type": "code",
      "source": [
        "print(numerical_gradient(function_2, np.array([3.0, 4.0])))\n",
        "print(numerical_gradient(function_2, np.array([0.0, 2.0])))\n",
        "print(numerical_gradient(function_2, np.array([3.0, 0.0])))\n"
      ],
      "metadata": {
        "colab": {
          "base_uri": "https://localhost:8080/"
        },
        "id": "ekfSh0mMM8Di",
        "outputId": "25570cb2-a06a-4ab5-f669-8f16e9d69a31"
      },
      "execution_count": 19,
      "outputs": [
        {
          "output_type": "stream",
          "name": "stdout",
          "text": [
            "[6. 8.]\n",
            "[0. 4.]\n",
            "[6. 0.]\n"
          ]
        }
      ]
    }
  ]
}